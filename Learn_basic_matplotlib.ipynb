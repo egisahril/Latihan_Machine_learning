{
  "nbformat": 4,
  "nbformat_minor": 0,
  "metadata": {
    "colab": {
      "name": "Learn_basic_matplotlib.ipynb",
      "provenance": [],
      "include_colab_link": true
    },
    "kernelspec": {
      "display_name": "Python 3",
      "language": "python",
      "name": "python3"
    },
    "language_info": {
      "codemirror_mode": {
        "name": "ipython",
        "version": 3
      },
      "file_extension": ".py",
      "mimetype": "text/x-python",
      "name": "python",
      "nbconvert_exporter": "python",
      "pygments_lexer": "ipython3",
      "version": "3.9.1"
    }
  },
  "cells": [
    {
      "cell_type": "markdown",
      "metadata": {
        "id": "view-in-github",
        "colab_type": "text"
      },
      "source": [
        "<a href=\"https://colab.research.google.com/github/egisahril/Latihan_Machine_learning/blob/main/Learn_basic_matplotlib.ipynb\" target=\"_parent\"><img src=\"https://colab.research.google.com/assets/colab-badge.svg\" alt=\"Open In Colab\"/></a>"
      ]
    },
    {
      "cell_type": "code",
      "metadata": {
        "id": "pUcipW3LZxvL"
      },
      "source": [
        "%matplotlib inline"
      ],
      "execution_count": null,
      "outputs": []
    },
    {
      "cell_type": "markdown",
      "metadata": {
        "id": "t-OIWUA8ZxvP"
      },
      "source": [
        "\n",
        "# Packed-bubble chart\n",
        "\n",
        "\n",
        "Create a packed-bubble chart to represent scalar data.\n",
        "The presented algorithm tries to move all bubbles as close to the center of\n",
        "mass as possible while avoiding some collisions by moving around colliding\n",
        "objects. In this example we plot the market share of different desktop\n",
        "browsers.\n",
        "(source: https://gs.statcounter.com/browser-market-share/desktop/worldwidev)\n"
      ]
    },
    {
      "cell_type": "code",
      "metadata": {
        "colab": {
          "base_uri": "https://localhost:8080/",
          "height": 264
        },
        "id": "HdJOePMHZxvQ",
        "outputId": "a5602d6e-d6d1-467b-d741-16275ad49cb8"
      },
      "source": [
        "import numpy as np\n",
        "import matplotlib.pyplot as plt\n",
        "\n",
        "browser_market_share = {\n",
        "    'browsers': ['firefox', 'chrome', 'safari', 'edge', 'ie', 'opera'],\n",
        "    'market_share': [8.61, 69.55, 8.36, 4.12, 2.76, 2.43],\n",
        "    'color': ['#5A69AF', '#579E65', '#F9C784', '#FC944A', '#F24C00', '#00B825']\n",
        "}\n",
        "\n",
        "\n",
        "class BubbleChart:\n",
        "    def __init__(self, area, bubble_spacing=0):\n",
        "        \"\"\"\n",
        "        Setup for bubble collapse.\n",
        "\n",
        "        Parameters\n",
        "        ----------\n",
        "        area : array-like\n",
        "            Area of the bubbles.\n",
        "        bubble_spacing : float, default: 0\n",
        "            Minimal spacing between bubbles after collapsing.\n",
        "\n",
        "        Notes\n",
        "        -----\n",
        "        If \"area\" is sorted, the results might look weird.\n",
        "        \"\"\"\n",
        "        area = np.asarray(area)\n",
        "        r = np.sqrt(area / np.pi)\n",
        "\n",
        "        self.bubble_spacing = bubble_spacing\n",
        "        self.bubbles = np.ones((len(area), 4))\n",
        "        self.bubbles[:, 2] = r\n",
        "        self.bubbles[:, 3] = area\n",
        "        self.maxstep = 2 * self.bubbles[:, 2].max() + self.bubble_spacing\n",
        "        self.step_dist = self.maxstep / 2\n",
        "\n",
        "        # calculate initial grid layout for bubbles\n",
        "        length = np.ceil(np.sqrt(len(self.bubbles)))\n",
        "        grid = np.arange(length) * self.maxstep\n",
        "        gx, gy = np.meshgrid(grid, grid)\n",
        "        self.bubbles[:, 0] = gx.flatten()[:len(self.bubbles)]\n",
        "        self.bubbles[:, 1] = gy.flatten()[:len(self.bubbles)]\n",
        "\n",
        "        self.com = self.center_of_mass()\n",
        "\n",
        "    def center_of_mass(self):\n",
        "        return np.average(\n",
        "            self.bubbles[:, :2], axis=0, weights=self.bubbles[:, 3]\n",
        "        )\n",
        "\n",
        "    def center_distance(self, bubble, bubbles):\n",
        "        return np.hypot(bubble[0] - bubbles[:, 0],\n",
        "                        bubble[1] - bubbles[:, 1])\n",
        "\n",
        "    def outline_distance(self, bubble, bubbles):\n",
        "        center_distance = self.center_distance(bubble, bubbles)\n",
        "        return center_distance - bubble[2] - \\\n",
        "            bubbles[:, 2] - self.bubble_spacing\n",
        "\n",
        "    def check_collisions(self, bubble, bubbles):\n",
        "        distance = self.outline_distance(bubble, bubbles)\n",
        "        return len(distance[distance < 0])\n",
        "\n",
        "    def collides_with(self, bubble, bubbles):\n",
        "        distance = self.outline_distance(bubble, bubbles)\n",
        "        idx_min = np.argmin(distance)\n",
        "        return idx_min if type(idx_min) == np.ndarray else [idx_min]\n",
        "\n",
        "    def collapse(self, n_iterations=50):\n",
        "        \"\"\"\n",
        "        Move bubbles to the center of mass.\n",
        "\n",
        "        Parameters\n",
        "        ----------\n",
        "        n_iterations : int, default: 50\n",
        "            Number of moves to perform.\n",
        "        \"\"\"\n",
        "        for _i in range(n_iterations):\n",
        "            moves = 0\n",
        "            for i in range(len(self.bubbles)):\n",
        "                rest_bub = np.delete(self.bubbles, i, 0)\n",
        "                # try to move directly towards the center of mass\n",
        "                # direction vector from bubble to the center of mass\n",
        "                dir_vec = self.com - self.bubbles[i, :2]\n",
        "\n",
        "                # shorten direction vector to have length of 1\n",
        "                dir_vec = dir_vec / np.sqrt(dir_vec.dot(dir_vec))\n",
        "\n",
        "                # calculate new bubble position\n",
        "                new_point = self.bubbles[i, :2] + dir_vec * self.step_dist\n",
        "                new_bubble = np.append(new_point, self.bubbles[i, 2:4])\n",
        "\n",
        "                # check whether new bubble collides with other bubbles\n",
        "                if not self.check_collisions(new_bubble, rest_bub):\n",
        "                    self.bubbles[i, :] = new_bubble\n",
        "                    self.com = self.center_of_mass()\n",
        "                    moves += 1\n",
        "                else:\n",
        "                    # try to move around a bubble that you collide with\n",
        "                    # find colliding bubble\n",
        "                    for colliding in self.collides_with(new_bubble, rest_bub):\n",
        "                        # calculate direction vector\n",
        "                        dir_vec = rest_bub[colliding, :2] - self.bubbles[i, :2]\n",
        "                        dir_vec = dir_vec / np.sqrt(dir_vec.dot(dir_vec))\n",
        "                        # calculate orthogonal vector\n",
        "                        orth = np.array([dir_vec[1], -dir_vec[0]])\n",
        "                        # test which direction to go\n",
        "                        new_point1 = (self.bubbles[i, :2] + orth *\n",
        "                                      self.step_dist)\n",
        "                        new_point2 = (self.bubbles[i, :2] - orth *\n",
        "                                      self.step_dist)\n",
        "                        dist1 = self.center_distance(\n",
        "                            self.com, np.array([new_point1]))\n",
        "                        dist2 = self.center_distance(\n",
        "                            self.com, np.array([new_point2]))\n",
        "                        new_point = new_point1 if dist1 < dist2 else new_point2\n",
        "                        new_bubble = np.append(new_point, self.bubbles[i, 2:4])\n",
        "                        if not self.check_collisions(new_bubble, rest_bub):\n",
        "                            self.bubbles[i, :] = new_bubble\n",
        "                            self.com = self.center_of_mass()\n",
        "\n",
        "            if moves / len(self.bubbles) < 0.1:\n",
        "                self.step_dist = self.step_dist / 2\n",
        "\n",
        "    def plot(self, ax, labels, colors):\n",
        "        \"\"\"\n",
        "        Draw the bubble plot.\n",
        "\n",
        "        Parameters\n",
        "        ----------\n",
        "        ax : matplotlib.axes.Axes\n",
        "        labels : list\n",
        "            Labels of the bubbles.\n",
        "        colors : list\n",
        "            Colors of the bubbles.\n",
        "        \"\"\"\n",
        "        for i in range(len(self.bubbles)):\n",
        "            circ = plt.Circle(\n",
        "                self.bubbles[i, :2], self.bubbles[i, 2], color=colors[i])\n",
        "            ax.add_patch(circ)\n",
        "            ax.text(*self.bubbles[i, :2], labels[i],\n",
        "                    horizontalalignment='center', verticalalignment='center')\n",
        "\n",
        "\n",
        "bubble_chart = BubbleChart(area=browser_market_share['market_share'],\n",
        "                           bubble_spacing=0.1)\n",
        "\n",
        "bubble_chart.collapse()\n",
        "\n",
        "fig, ax = plt.subplots(subplot_kw=dict(aspect=\"equal\"))\n",
        "bubble_chart.plot(\n",
        "    ax, browser_market_share['browsers'], browser_market_share['color'])\n",
        "ax.axis(\"off\")\n",
        "ax.relim()\n",
        "ax.autoscale_view()\n",
        "ax.set_title('Browser market share')\n",
        "\n",
        "plt.show()"
      ],
      "execution_count": null,
      "outputs": [
        {
          "output_type": "display_data",
          "data": {
            "image/png": "[encoded data removed]",
            "text/plain": [
              "<Figure size 432x288 with 1 Axes>"
            ]
          },
          "metadata": {
            "tags": []
          }
        }
      ]
    },
    {
      "cell_type": "code",
      "metadata": {
        "colab": {
          "base_uri": "https://localhost:8080/",
          "height": 265
        },
        "id": "hl3Bo1bLbRFn",
        "outputId": "fb269319-be1e-4670-cb94-59d104f8a82e"
      },
      "source": [
        "import matplotlib.pyplot as plt\n",
        "plt.plot([1, 2, 3, 4])\n",
        "plt.ylabel([0, 1.5, 3, 4.5])\n",
        "plt.show()"
      ],
      "execution_count": null,
      "outputs": [
        {
          "output_type": "display_data",
          "data": {
            "image/png": "[encoded data removed]",
            "text/plain": [
              "<Figure size 432x288 with 1 Axes>"
            ]
          },
          "metadata": {
            "tags": []
          }
        }
      ]
    },
    {
      "cell_type": "code",
      "metadata": {
        "colab": {
          "base_uri": "https://localhost:8080/",
          "height": 265
        },
        "id": "krQtDxE7dE9B",
        "outputId": "7db2a385-4c3b-4b83-e5f5-3270ff136b8d"
      },
      "source": [
        "import matplotlib.pyplot as plt\n",
        "plt.plot([1, 2, 3, 4], [1, 4, 9, 16])\n",
        "plt.show()"
      ],
      "execution_count": null,
      "outputs": [
        {
          "output_type": "display_data",
          "data": {
            "image/png": "[encoded data removed]",
            "text/plain": [
              "<Figure size 432x288 with 1 Axes>"
            ]
          },
          "metadata": {
            "tags": []
          }
        }
      ]
    },
    {
      "cell_type": "code",
      "metadata": {
        "colab": {
          "base_uri": "https://localhost:8080/",
          "height": 269
        },
        "id": "QA0XQsQWjYh3",
        "outputId": "12f09c39-0329-43a1-e2ee-ada2a93a50b6"
      },
      "source": [
        "import matplotlib.pyplot as plt\n",
        "plt.plot([2, 4, 6, 8], [1, 2, 3, 4], 'ro')\n",
        "plt.axis([0, 10, 0, 5]) #plt.axis digunakan untuk mengubah aturan angka yang keluar d grafik 0-10 untuk sumbu x dan 0-5 untuk sumbu y\n",
        "plt.show()"
      ],
      "execution_count": null,
      "outputs": [
        {
          "output_type": "display_data",
          "data": {
            "image/png": "[encoded data removed]",
            "text/plain": [
              "<Figure size 432x288 with 1 Axes>"
            ]
          },
          "metadata": {
            "tags": []
          }
        }
      ]
    },
    {
      "cell_type": "code",
      "metadata": {
        "colab": {
          "background_save": true
        },
        "id": "G8glKnpBoYRn",
        "outputId": "8c73ceb8-2c0a-4300-ba4b-f466da9b22a9"
      },
      "source": [
        "import numpy as np\n",
        "# evenly sampled time at 200ms intervals\n",
        "t = np.arange(0., 5., 0.2) #array atau arange memiliki nilai awal yaitu 0 dan nilai akhir 5 dan selisih setiap nilai adalah 0.2\n",
        "\n",
        "# red dashes, blue squares and green triangles\n",
        "plt.plot(t, t, 'r--', t, t**2, 'bs', t, t**3, 'g^')\n",
        "plt.show()\n"
      ],
      "execution_count": null,
      "outputs": [
        {
          "output_type": "display_data",
          "data": {
            "image/png": "[encoded data removed]",
            "text/plain": [
              "<Figure size 432x288 with 1 Axes>"
            ]
          },
          "metadata": {
            "tags": []
          }
        }
      ]
    },
    {
      "cell_type": "code",
      "metadata": {
        "colab": {
          "base_uri": "https://localhost:8080/"
        },
        "id": "FsWeCSGOPkYS",
        "outputId": "fb8b8c50-7ff6-42c5-a8a9-f31e545ee1b1"
      },
      "source": [
        "import numpy as np\n",
        "a = np.array([1, 2, 3, 4, 5])\n",
        "b = [1, 2, 3, 4, 4]\n",
        "print(a+b)"
      ],
      "execution_count": null,
      "outputs": [
        {
          "output_type": "stream",
          "text": [
            "[2 4 6 8 9]\n"
          ],
          "name": "stdout"
        }
      ]
    }
  ]
}