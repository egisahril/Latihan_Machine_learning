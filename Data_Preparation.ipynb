{
  "nbformat": 4,
  "nbformat_minor": 0,
  "metadata": {
    "colab": {
      "name": "Data_Preparation.ipynb",
      "provenance": [],
      "authorship_tag": "ABX9TyO4Aq5DKSvdipgZggn7OW6q",
      "include_colab_link": true
    },
    "kernelspec": {
      "name": "python3",
      "display_name": "Python 3"
    },
    "language_info": {
      "name": "python"
    }
  },
  "cells": [
    {
      "cell_type": "markdown",
      "metadata": {
        "id": "view-in-github",
        "colab_type": "text"
      },
      "source": [
        "<a href=\"https://colab.research.google.com/github/egisahril/Latihan_Machine_learning/blob/main/Data_Preparation.ipynb\" target=\"_parent\"><img src=\"https://colab.research.google.com/assets/colab-badge.svg\" alt=\"Open In Colab\"/></a>"
      ]
    },
    {
      "cell_type": "markdown",
      "metadata": {
        "id": "ZMVawT8GI2uA"
      },
      "source": [
        "One heat coding atau mengubah data kategorik menjadi data numerik"
      ]
    },
    {
      "cell_type": "markdown",
      "metadata": {
        "id": "Q-ry530DJDCg"
      },
      "source": [
        "Outlier removal yaitu data atau nilai yang jauh berbeda dengan kumpulan nilai lainnya dan adpat mengacaukan hasil sebuah analisis contoh nya kesalahan input data"
      ]
    },
    {
      "cell_type": "markdown",
      "metadata": {
        "id": "uKk9i3zuJiT_"
      },
      "source": [
        "Normalization adalah salah satu teknik yang dipakai dalam preparation data. \n",
        "Tujuan dari normalisasi adalah mengubah nilai-nilai dari sebuah fitur ke dalam skala yang sama. Berikut Contoh Normalisasi pada data."
      ]
    },
    {
      "cell_type": "code",
      "metadata": {
        "id": "6G1FPPRkJw7k"
      },
      "source": [
        "from sklearn.preprocessing import MinMaxScaler\n",
        "data = [[12000000, 33], [35000000, 45], [4000000, 23], [6500000, 26], [9000000, 29]]"
      ],
      "execution_count": 2,
      "outputs": []
    },
    {
      "cell_type": "code",
      "metadata": {
        "colab": {
          "base_uri": "https://localhost:8080/"
        },
        "id": "z_w60L-zKs4e",
        "outputId": "0590d6c1-d69c-4298-a74b-634853b3e9d1"
      },
      "source": [
        "scaler = MinMaxScaler()\n",
        "scaler.fit(data)  #fungsi fit() ini, komputer baru menghitung nilai minimum dan maksimum pada tiap kolom dan belum melakukan operasi scaler pada data"
      ],
      "execution_count": 3,
      "outputs": [
        {
          "output_type": "execute_result",
          "data": {
            "text/plain": [
              "MinMaxScaler(copy=True, feature_range=(0, 1))"
            ]
          },
          "metadata": {
            "tags": []
          },
          "execution_count": 3
        }
      ]
    },
    {
      "cell_type": "code",
      "metadata": {
        "colab": {
          "base_uri": "https://localhost:8080/"
        },
        "id": "EkTHVIzxLEwm",
        "outputId": "25624eb2-e98f-4e47-83da-fc666cd6bafd"
      },
      "source": [
        "print(scaler.transform(data)) #fungsi transform() yang akan mengaplikasikan scaler pada data"
      ],
      "execution_count": 4,
      "outputs": [
        {
          "output_type": "stream",
          "text": [
            "[[0.25806452 0.45454545]\n",
            " [1.         1.        ]\n",
            " [0.         0.        ]\n",
            " [0.08064516 0.13636364]\n",
            " [0.16129032 0.27272727]]\n"
          ],
          "name": "stdout"
        }
      ]
    },
    {
      "cell_type": "code",
      "metadata": {
        "id": "DIDY2HiuLcQD"
      },
      "source": [
        ""
      ],
      "execution_count": null,
      "outputs": []
    },
    {
      "cell_type": "markdown",
      "metadata": {
        "id": "pc64QAZnLczk"
      },
      "source": [
        "Standardization adalah proses konversi nilai-nilai dari suatu fitur sehingga nilai-nilai tersebut memiliki skala yang sama. \n",
        "Z score adalah metode paling populer untuk standardisasi di mana setiap nilai pada sebuah atribut numerik akan dikurangi dengan rata-rata dan \n",
        "dibagi dengan standar deviasi dari seluruh nilai pada sebuah kolom atribut"
      ]
    },
    {
      "cell_type": "code",
      "metadata": {
        "id": "qEZgGmDiLuUp"
      },
      "source": [
        "from sklearn import preprocessing\n",
        "data = [[12000000, 33], [35000000, 45], [4000000, 23], [6500000, 26], [9000000, 29]]"
      ],
      "execution_count": 5,
      "outputs": []
    },
    {
      "cell_type": "code",
      "metadata": {
        "id": "kG-wsjvNL0aK"
      },
      "source": [
        "#Fungsi fit memiliki fungsi untuk menghitung rata-rata dan deviasi standar dari setiap kolom atribut untuk kemudian dipakai pada fungsi transform.\n",
        "\n",
        "scaler = preprocessing.StandardScaler().fit(data)  "
      ],
      "execution_count": 6,
      "outputs": []
    },
    {
      "cell_type": "code",
      "metadata": {
        "colab": {
          "base_uri": "https://localhost:8080/"
        },
        "id": "s7-UlgBNML6K",
        "outputId": "284c2540-4559-409e-88b8-eff234d3ce9d"
      },
      "source": [
        "data = scaler.transform(data)  #fungsi transform untuk mengaplikasikan standard scaler pada data\n",
        "print(data)"
      ],
      "execution_count": 8,
      "outputs": [
        {
          "output_type": "stream",
          "text": [
            "[[-1.19073183 -4.04638761]\n",
            " [-1.19073164 -3.84146958]\n",
            " [-1.19073189 -4.21715264]\n",
            " [-1.19073187 -4.16592313]\n",
            " [-1.19073185 -4.11469362]]\n"
          ],
          "name": "stdout"
        }
      ]
    }
  ]
}